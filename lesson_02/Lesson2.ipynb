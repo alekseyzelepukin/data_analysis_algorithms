{
 "cells": [
  {
   "cell_type": "markdown",
   "metadata": {},
   "source": [
    "# Урок 2.  \n",
    "# Масштабирование признаков.  \n",
    "# L1- и L2-регуляризация.  \n",
    "# Стохастический градиентный спуск"
   ]
  },
  {
   "cell_type": "code",
   "execution_count": 1,
   "metadata": {
    "colab": {},
    "colab_type": "code",
    "id": "_u5bV-OlT34p"
   },
   "outputs": [],
   "source": [
    "import numpy as np\n",
    "import matplotlib.pyplot as plt"
   ]
  },
  {
   "cell_type": "code",
   "execution_count": 2,
   "metadata": {
    "colab": {},
    "colab_type": "code",
    "id": "_n6il-AZaLuA"
   },
   "outputs": [],
   "source": [
    "X = np.array([[1, 1, 1, 1, 1, 1, 1, 1, 1, 1],\n",
    "              [1, 1, 2, 1, 3, 0, 5, 10, 1, 2],\n",
    "              [500, 700, 750, 600, 1450,\n",
    "               800, 1500, 2000, 450, 1000],\n",
    "              [1, 1, 2, 1, 2, \n",
    "               1, 3, 3, 1, 2]])"
   ]
  },
  {
   "cell_type": "code",
   "execution_count": 3,
   "metadata": {
    "colab": {},
    "colab_type": "code",
    "id": "x8yoci01ni-t"
   },
   "outputs": [],
   "source": [
    "y = [45, 55, 50, 59, 65,\n",
    "    35, 75, 80, 50, 60]"
   ]
  },
  {
   "cell_type": "markdown",
   "metadata": {},
   "source": [
    "# Виды масштабирования признаков"
   ]
  },
  {
   "cell_type": "markdown",
   "metadata": {},
   "source": [
    "![img/normalization.png](img/normalization.png)"
   ]
  },
  {
   "cell_type": "markdown",
   "metadata": {},
   "source": [
    "### MinMaxScaler  \n",
    "\n",
    "$$\\large X_{norm} = \\frac{X – X_{min}}{X_{max}-X_{min}}$$"
   ]
  },
  {
   "cell_type": "code",
   "execution_count": 4,
   "metadata": {
    "colab": {
     "base_uri": "https://localhost:8080/",
     "height": 34
    },
    "colab_type": "code",
    "id": "Ei5qeZO_aT6m",
    "outputId": "087819d3-202a-46c9-f87d-49e17953099c"
   },
   "outputs": [
    {
     "data": {
      "text/plain": [
       "(0, 10)"
      ]
     },
     "execution_count": 4,
     "metadata": {},
     "output_type": "execute_result"
    }
   ],
   "source": [
    "X[1].min(), X[1].max()"
   ]
  },
  {
   "cell_type": "code",
   "execution_count": 5,
   "metadata": {
    "colab": {
     "base_uri": "https://localhost:8080/",
     "height": 34
    },
    "colab_type": "code",
    "id": "L7wsW1Q7b4Ts",
    "outputId": "911044d6-32c1-475a-80cd-cbaf26d5ba32"
   },
   "outputs": [
    {
     "data": {
      "text/plain": [
       "(450, 2000)"
      ]
     },
     "execution_count": 5,
     "metadata": {},
     "output_type": "execute_result"
    }
   ],
   "source": [
    "X[2].min(), X[2].max()"
   ]
  },
  {
   "cell_type": "code",
   "execution_count": 6,
   "metadata": {
    "colab": {
     "base_uri": "https://localhost:8080/",
     "height": 121
    },
    "colab_type": "code",
    "id": "E55S9Bzob9Xa",
    "outputId": "4abf56a2-d484-4c24-8520-8ed1b58ccca8"
   },
   "outputs": [
    {
     "data": {
      "text/plain": [
       "array([[1.00e+00, 1.00e+00, 1.00e+00, 1.00e+00, 1.00e+00, 1.00e+00,\n",
       "        1.00e+00, 1.00e+00, 1.00e+00, 1.00e+00],\n",
       "       [1.00e+00, 1.00e+00, 2.00e+00, 1.00e+00, 3.00e+00, 0.00e+00,\n",
       "        5.00e+00, 1.00e+01, 1.00e+00, 2.00e+00],\n",
       "       [5.00e+02, 7.00e+02, 7.50e+02, 6.00e+02, 1.45e+03, 8.00e+02,\n",
       "        1.50e+03, 2.00e+03, 4.50e+02, 1.00e+03],\n",
       "       [1.00e+00, 1.00e+00, 2.00e+00, 1.00e+00, 2.00e+00, 1.00e+00,\n",
       "        3.00e+00, 3.00e+00, 1.00e+00, 2.00e+00]])"
      ]
     },
     "execution_count": 6,
     "metadata": {},
     "output_type": "execute_result"
    }
   ],
   "source": [
    "X_norm = X.copy()\n",
    "X_norm = X_norm.astype(np.float64)\n",
    "X_norm"
   ]
  },
  {
   "cell_type": "code",
   "execution_count": 7,
   "metadata": {
    "colab": {
     "base_uri": "https://localhost:8080/",
     "height": 121
    },
    "colab_type": "code",
    "id": "7x-6IuPOcIo0",
    "outputId": "1668fec7-37ae-4671-ad9f-f093c30a6c72"
   },
   "outputs": [
    {
     "data": {
      "text/plain": [
       "array([[1.00e+00, 1.00e+00, 1.00e+00, 1.00e+00, 1.00e+00, 1.00e+00,\n",
       "        1.00e+00, 1.00e+00, 1.00e+00, 1.00e+00],\n",
       "       [1.00e-01, 1.00e-01, 2.00e-01, 1.00e-01, 3.00e-01, 0.00e+00,\n",
       "        5.00e-01, 1.00e+00, 1.00e-01, 2.00e-01],\n",
       "       [5.00e+02, 7.00e+02, 7.50e+02, 6.00e+02, 1.45e+03, 8.00e+02,\n",
       "        1.50e+03, 2.00e+03, 4.50e+02, 1.00e+03],\n",
       "       [1.00e+00, 1.00e+00, 2.00e+00, 1.00e+00, 2.00e+00, 1.00e+00,\n",
       "        3.00e+00, 3.00e+00, 1.00e+00, 2.00e+00]])"
      ]
     },
     "execution_count": 7,
     "metadata": {},
     "output_type": "execute_result"
    }
   ],
   "source": [
    "X_norm[1] = (X[1] - X[1].min()) / (X[1].max() - X[1].min())\n",
    "X_norm"
   ]
  },
  {
   "cell_type": "code",
   "execution_count": 8,
   "metadata": {
    "colab": {
     "base_uri": "https://localhost:8080/",
     "height": 121
    },
    "colab_type": "code",
    "id": "izkMRdXFcjyK",
    "outputId": "982b8c8d-629d-4c4a-a3d5-67854cee4a4a"
   },
   "outputs": [
    {
     "data": {
      "text/plain": [
       "array([[1.        , 1.        , 1.        , 1.        , 1.        ,\n",
       "        1.        , 1.        , 1.        , 1.        , 1.        ],\n",
       "       [0.1       , 0.1       , 0.2       , 0.1       , 0.3       ,\n",
       "        0.        , 0.5       , 1.        , 0.1       , 0.2       ],\n",
       "       [0.03225806, 0.16129032, 0.19354839, 0.09677419, 0.64516129,\n",
       "        0.22580645, 0.67741935, 1.        , 0.        , 0.35483871],\n",
       "       [1.        , 1.        , 2.        , 1.        , 2.        ,\n",
       "        1.        , 3.        , 3.        , 1.        , 2.        ]])"
      ]
     },
     "execution_count": 8,
     "metadata": {},
     "output_type": "execute_result"
    }
   ],
   "source": [
    "X_norm[2] = (X[2] - X[2].min()) / (X[2].max() - X[2].min())\n",
    "X_norm"
   ]
  },
  {
   "cell_type": "markdown",
   "metadata": {
    "colab": {},
    "colab_type": "code",
    "id": "Zy63bpFfeqzu"
   },
   "source": [
    "### Стандартизация  \n",
    "\n",
    "$$\\large X_{norm} = \\frac{X – X_{mean}}{std}$$"
   ]
  },
  {
   "cell_type": "code",
   "execution_count": 9,
   "metadata": {
    "colab": {
     "base_uri": "https://localhost:8080/",
     "height": 317
    },
    "colab_type": "code",
    "id": "8i9pB-3-fMD4",
    "outputId": "3cbe76f6-d000-4fcd-fe86-ffe853403356"
   },
   "outputs": [
    {
     "data": {
      "image/png": "[encoded data removed]",
      "text/plain": [
       "<Figure size 432x288 with 1 Axes>"
      ]
     },
     "metadata": {
      "needs_background": "light"
     },
     "output_type": "display_data"
    }
   ],
   "source": [
    "plt.hist(X[1]);"
   ]
  },
  {
   "cell_type": "code",
   "execution_count": 10,
   "metadata": {
    "colab": {
     "base_uri": "https://localhost:8080/",
     "height": 335
    },
    "colab_type": "code",
    "id": "-bnAYQqVfRX-",
    "outputId": "d59b0013-49bc-40fa-cb29-e71403e6e9e0"
   },
   "outputs": [
    {
     "data": {
      "image/png": "[encoded data removed]",
      "text/plain": [
       "<Figure size 432x288 with 1 Axes>"
      ]
     },
     "metadata": {
      "needs_background": "light"
     },
     "output_type": "display_data"
    }
   ],
   "source": [
    "plt.hist(X[2]);"
   ]
  },
  {
   "cell_type": "code",
   "execution_count": 11,
   "metadata": {
    "colab": {
     "base_uri": "https://localhost:8080/",
     "height": 34
    },
    "colab_type": "code",
    "id": "eBMYUxGBfeGs",
    "outputId": "3d6031a8-3489-4661-a4a9-62d0c94c7116"
   },
   "outputs": [
    {
     "data": {
      "text/plain": [
       "2.6"
      ]
     },
     "execution_count": 11,
     "metadata": {},
     "output_type": "execute_result"
    }
   ],
   "source": [
    "X1_mean = X[1].mean()\n",
    "X1_mean"
   ]
  },
  {
   "cell_type": "code",
   "execution_count": 12,
   "metadata": {
    "colab": {
     "base_uri": "https://localhost:8080/",
     "height": 34
    },
    "colab_type": "code",
    "id": "KsBCCu-Cf45z",
    "outputId": "e5c534cf-2e3c-4574-f281-3ae73c956783"
   },
   "outputs": [
    {
     "data": {
      "text/plain": [
       "2.8000000000000003"
      ]
     },
     "execution_count": 12,
     "metadata": {},
     "output_type": "execute_result"
    }
   ],
   "source": [
    "X1_std = X[1].std()\n",
    "X1_std"
   ]
  },
  {
   "cell_type": "code",
   "execution_count": 13,
   "metadata": {
    "colab": {},
    "colab_type": "code",
    "id": "M57-Pzl_f_rF"
   },
   "outputs": [],
   "source": [
    "X_st = X.copy().astype(np.float64)"
   ]
  },
  {
   "cell_type": "code",
   "execution_count": 14,
   "metadata": {
    "colab": {
     "base_uri": "https://localhost:8080/",
     "height": 294
    },
    "colab_type": "code",
    "id": "btJMY0YbgKLb",
    "outputId": "40010205-def9-4582-9a5d-e513e85b7a4e"
   },
   "outputs": [
    {
     "data": {
      "text/plain": [
       "array([[ 1.00000000e+00,  1.00000000e+00,  1.00000000e+00,\n",
       "         1.00000000e+00,  1.00000000e+00,  1.00000000e+00,\n",
       "         1.00000000e+00,  1.00000000e+00,  1.00000000e+00,\n",
       "         1.00000000e+00],\n",
       "       [-5.71428571e-01, -5.71428571e-01, -2.14285714e-01,\n",
       "        -5.71428571e-01,  1.42857143e-01, -9.28571429e-01,\n",
       "         8.57142857e-01,  2.64285714e+00, -5.71428571e-01,\n",
       "        -2.14285714e-01],\n",
       "       [ 5.00000000e+02,  7.00000000e+02,  7.50000000e+02,\n",
       "         6.00000000e+02,  1.45000000e+03,  8.00000000e+02,\n",
       "         1.50000000e+03,  2.00000000e+03,  4.50000000e+02,\n",
       "         1.00000000e+03],\n",
       "       [ 1.00000000e+00,  1.00000000e+00,  2.00000000e+00,\n",
       "         1.00000000e+00,  2.00000000e+00,  1.00000000e+00,\n",
       "         3.00000000e+00,  3.00000000e+00,  1.00000000e+00,\n",
       "         2.00000000e+00]])"
      ]
     },
     "execution_count": 14,
     "metadata": {},
     "output_type": "execute_result"
    }
   ],
   "source": [
    "X_st[1] = (X[1] - X1_mean) / X1_std\n",
    "X_st"
   ]
  },
  {
   "cell_type": "code",
   "execution_count": 15,
   "metadata": {
    "colab": {
     "base_uri": "https://localhost:8080/",
     "height": 352
    },
    "colab_type": "code",
    "id": "-Y1tzWGCgYjA",
    "outputId": "89dc21fe-180f-4e68-f30f-1cf276c4f154"
   },
   "outputs": [
    {
     "data": {
      "image/png": "[encoded data removed]",
      "text/plain": [
       "<Figure size 432x288 with 1 Axes>"
      ]
     },
     "metadata": {
      "needs_background": "light"
     },
     "output_type": "display_data"
    }
   ],
   "source": [
    "plt.hist(X_st[1]);"
   ]
  },
  {
   "cell_type": "code",
   "execution_count": 16,
   "metadata": {
    "colab": {},
    "colab_type": "code",
    "id": "ZlJUBOyzgkJV"
   },
   "outputs": [],
   "source": [
    "def custom_StandardScaler(x):\n",
    "    res = (x - x.mean()) / x.std()\n",
    "    return res"
   ]
  },
  {
   "cell_type": "code",
   "execution_count": 17,
   "metadata": {
    "colab": {},
    "colab_type": "code",
    "id": "6PlDlFY0hGZA"
   },
   "outputs": [],
   "source": [
    "X_st[2] = custom_StandardScaler(X[2])"
   ]
  },
  {
   "cell_type": "code",
   "execution_count": 18,
   "metadata": {
    "colab": {
     "base_uri": "https://localhost:8080/",
     "height": 155
    },
    "colab_type": "code",
    "id": "LOKhmhJjt9TR",
    "outputId": "2b131d78-9066-462b-dfa9-778758f3d363"
   },
   "outputs": [
    {
     "data": {
      "text/plain": [
       "array([[ 1.        ,  1.        ,  1.        ,  1.        ,  1.        ,\n",
       "         1.        ,  1.        ,  1.        ,  1.        ,  1.        ],\n",
       "       [-0.57142857, -0.57142857, -0.21428571, -0.57142857,  0.14285714,\n",
       "        -0.92857143,  0.85714286,  2.64285714, -0.57142857, -0.21428571],\n",
       "       [-0.97958969, -0.56713087, -0.46401617, -0.77336028,  0.97958969,\n",
       "        -0.36090146,  1.08270439,  2.11385144, -1.08270439,  0.05155735],\n",
       "       [-0.89625816, -0.89625816,  0.38411064, -0.89625816,  0.38411064,\n",
       "        -0.89625816,  1.66447944,  1.66447944, -0.89625816,  0.38411064]])"
      ]
     },
     "execution_count": 18,
     "metadata": {},
     "output_type": "execute_result"
    }
   ],
   "source": [
    "X_st[3] = custom_StandardScaler(X[3])\n",
    "X_st"
   ]
  },
  {
   "cell_type": "code",
   "execution_count": 19,
   "metadata": {
    "colab": {
     "base_uri": "https://localhost:8080/",
     "height": 121
    },
    "colab_type": "code",
    "id": "UwiZ4UcOhQXX",
    "outputId": "a4b1c355-12d6-49cf-f097-24af99872ab9"
   },
   "outputs": [
    {
     "data": {
      "image/png": "[encoded data removed]",
      "text/plain": [
       "<Figure size 432x288 with 1 Axes>"
      ]
     },
     "metadata": {
      "needs_background": "light"
     },
     "output_type": "display_data"
    }
   ],
   "source": [
    "plt.hist(X_st[1]);"
   ]
  },
  {
   "cell_type": "code",
   "execution_count": null,
   "metadata": {},
   "outputs": [],
   "source": []
  },
  {
   "cell_type": "markdown",
   "metadata": {
    "colab": {},
    "colab_type": "code",
    "id": "UdGy9tjVhZol"
   },
   "source": [
    "# SGD"
   ]
  },
  {
   "cell_type": "markdown",
   "metadata": {},
   "source": [
    "![img/lr_gradient_descent.gif](img/lr_gradient_descent.gif)"
   ]
  },
  {
   "cell_type": "markdown",
   "metadata": {},
   "source": [
    "Как нейронные сети обучаются с помощью градиентного спуска:  \n",
    "https://www.youtube.com/watch?v=IHZwWFHWa-w"
   ]
  },
  {
   "cell_type": "code",
   "execution_count": 20,
   "metadata": {
    "colab": {},
    "colab_type": "code",
    "id": "VDpN7UxYnrcS"
   },
   "outputs": [],
   "source": [
    "def calc_mse(y, y_pred):\n",
    "    err = np.mean((y - y_pred)**2)\n",
    "    return err"
   ]
  },
  {
   "cell_type": "code",
   "execution_count": 21,
   "metadata": {
    "colab": {},
    "colab_type": "code",
    "id": "SgEyis2zlJeb"
   },
   "outputs": [],
   "source": [
    "def eval_model(X, y, iterations, alpha=1e-4):\n",
    "    W = np.random.randn(X.shape[0])\n",
    "    n = X.shape[1]\n",
    "    for i in range(1, iterations+1):\n",
    "        y_pred = np.dot(W, X)\n",
    "        err = calc_mse(y, y_pred)\n",
    "        W -= (alpha * (1/n * 2 * np.dot((y_pred - y), X.T)))\n",
    "        if i % (iterations / 10) == 0:\n",
    "            print(f'# итерация: {i}, MSE: {err}, веса: {W}')\n",
    "    return W"
   ]
  },
  {
   "cell_type": "code",
   "execution_count": 22,
   "metadata": {
    "colab": {
     "base_uri": "https://localhost:8080/",
     "height": 207
    },
    "colab_type": "code",
    "id": "4nsYMAGjmFlB",
    "outputId": "8959a8af-3d27-42a6-afae-5db46c794fe1"
   },
   "outputs": [
    {
     "name": "stdout",
     "output_type": "stream",
     "text": [
      "# итерация: 100, MSE: 101.96723846192941, веса: [49.75881752  3.83485766  4.47883364  3.27343996]\n",
      "# итерация: 200, MSE: 41.81286385257762, веса: [56.38662977  4.25178737  3.99161475  3.39052639]\n",
      "# итерация: 300, MSE: 40.46708979093421, веса: [57.26560729  4.58176018  3.57232273  3.48530847]\n",
      "# итерация: 400, MSE: 40.24397468325163, веса: [57.3821769   4.85199769  3.22131229  3.5705663 ]\n",
      "# итерация: 500, MSE: 40.1016818308136, веса: [57.39763631  5.07368887  2.92756415  3.64639524]\n",
      "# итерация: 600, MSE: 40.00309303152416, веса: [57.39968653  5.25581998  2.68178849  3.71321016]\n",
      "# итерация: 700, MSE: 39.93458304788844, веса: [57.39995843  5.40565383  2.47618963  3.77163809]\n",
      "# итерация: 800, MSE: 39.886941933662705, веса: [57.39999449  5.52907356  2.30422909  3.82241428]\n",
      "# итерация: 900, MSE: 39.85379539014607, веса: [57.39999927  5.63085497  2.16042522  3.86631222]\n",
      "# итерация: 1000, MSE: 39.830723616312746, веса: [57.3999999   5.71488292  2.0401842   3.90409808]\n"
     ]
    },
    {
     "data": {
      "text/plain": [
       "array([57.3999999 ,  5.71488292,  2.0401842 ,  3.90409808])"
      ]
     },
     "execution_count": 22,
     "metadata": {},
     "output_type": "execute_result"
    }
   ],
   "source": [
    "eval_model(X_st, y, iterations=1000, alpha=1e-2)"
   ]
  },
  {
   "cell_type": "code",
   "execution_count": 23,
   "metadata": {
    "colab": {},
    "colab_type": "code",
    "id": "nCcMmNdQmxDp"
   },
   "outputs": [],
   "source": [
    "def eval_sgd_model(X, y, iterations, qty_in_batch, alpha=1e-4):\n",
    "    W = np.random.randn(X.shape[0])\n",
    "    n = X.shape[1]\n",
    "    n_batch = n // qty_in_batch\n",
    "    if n % qty_in_batch != 0:\n",
    "        n_batch += 1\n",
    "    for i in range(1, iterations+1):\n",
    "        for b in range(n_batch):\n",
    "            start_ = qty_in_batch*b\n",
    "            end_ = qty_in_batch*(b+1)\n",
    "            X_tmp = X[:, start_ : end_]\n",
    "            y_tmp = y[start_ : end_]\n",
    "            y_pred_tmp = np.dot(W, X_tmp)\n",
    "            err = calc_mse(y_tmp, y_pred_tmp)\n",
    "            W -= (alpha * (1/n * 2 * np.dot((y_pred_tmp - y_tmp), X_tmp.T)))\n",
    "        if i % (iterations / 10) == 0:\n",
    "            print(f'# итерация: {i}, MSE: {err}, веса: {W}')\n",
    "    return W"
   ]
  },
  {
   "cell_type": "code",
   "execution_count": 24,
   "metadata": {},
   "outputs": [
    {
     "name": "stdout",
     "output_type": "stream",
     "text": [
      "# итерация: 500, MSE: 41.76267411458677, веса: [57.39641892  5.18744689  2.70428281  3.78631002]\n",
      "# итерация: 1000, MSE: 39.73586134224074, веса: [57.39823292  5.78082516  1.94526581  3.95887115]\n",
      "# итерация: 1500, MSE: 38.884456021894266, веса: [57.39796427  6.00247441  1.63443805  4.05107062]\n",
      "# итерация: 2000, MSE: 38.52875871641103, веса: [57.3978591   6.08775788  1.50762777  4.09387211]\n",
      "# итерация: 2500, MSE: 38.381398704894536, веса: [57.39781738  6.12122986  1.45600774  4.11254923]\n",
      "# итерация: 3000, MSE: 38.32078867290287, веса: [57.39780068  6.13453554  1.43502297  4.12044588]\n",
      "# итерация: 3500, MSE: 38.29598489731918, веса: [57.39779396  6.13986716  1.42649894  4.12372727]\n",
      "# итерация: 4000, MSE: 38.285867619672864, веса: [57.39779124  6.14201407  1.42303811  4.12507746]\n",
      "# итерация: 4500, MSE: 38.28174939425071, веса: [57.39779014  6.14288117  1.42163338  4.12562984]\n",
      "# итерация: 5000, MSE: 38.280075222541775, веса: [57.3977897   6.14323201  1.42106331  4.12585507]\n"
     ]
    },
    {
     "data": {
      "text/plain": [
       "array([57.3977897 ,  6.14323201,  1.42106331,  4.12585507])"
      ]
     },
     "execution_count": 24,
     "metadata": {},
     "output_type": "execute_result"
    }
   ],
   "source": [
    "eval_sgd_model(X_st, y, iterations=5000, qty_in_batch=5, alpha=1e-2)"
   ]
  },
  {
   "cell_type": "markdown",
   "metadata": {},
   "source": [
    "### Регуляризация  \n",
    "\n",
    "По сути, регуляризация - это ограничение модели.  \n",
    "Для нас это, прежде всего, способ уменьшить сложность модели, чтобы предотвратить переобучение.\n",
    "Проблема: признаки могут иметь линейную (или почти линейную) зависимость.  \n",
    "Если у нас есть такие признаки, модель будет не устойчива к изменению в данных (большой variance).  \n",
    "Чтобы побороть этот эффект, модель при обучении дополнительно ограничивают, используя **регуляризацию**.\n",
    "\n",
    "Подробнее здесь:  \n",
    "https://habr.com/ru/company/ods/blog/323890/  \n",
    "и здесь:  \n",
    "https://habr.com/ru/company/ods/blog/322076/  "
   ]
  },
  {
   "cell_type": "markdown",
   "metadata": {
    "colab": {},
    "colab_type": "code",
    "id": "DYTxT_6OrZpe"
   },
   "source": [
    "L1 регуляризация"
   ]
  },
  {
   "cell_type": "markdown",
   "metadata": {
    "colab": {},
    "colab_type": "code",
    "id": "Ojkn7xKrsyiw"
   },
   "source": [
    "$$\\Large \\mathcal{L}_{reg} \\left(X, \\vec{y}, \\vec{w}\\right) = \\mathcal{L}\\left(X, \\vec{y}, \\vec{w}\\right)  + \\lambda \\sum_{j=1}^m \\left| w_j \\right|$$"
   ]
  },
  {
   "cell_type": "markdown",
   "metadata": {
    "colab": {},
    "colab_type": "code",
    "id": "j38vId7Hvtg0"
   },
   "source": [
    "L2 регуляризация"
   ]
  },
  {
   "cell_type": "markdown",
   "metadata": {
    "colab": {},
    "colab_type": "code",
    "id": "KO5BtZ7svv4k"
   },
   "source": [
    "$$\\Large \\mathcal{L}_{reg} \\left(X, \\vec{y}, \\vec{w}\\right) = \\mathcal{L}\\left(X, \\vec{y}, \\vec{w}\\right) + \\lambda \\frac{1}{2} \\sum_{j=1}^m w_j^2$$"
   ]
  },
  {
   "cell_type": "code",
   "execution_count": 25,
   "metadata": {
    "colab": {},
    "colab_type": "code",
    "id": "7AVoe1Mswjni"
   },
   "outputs": [],
   "source": [
    "def eval_model_reg2(X, y, iterations, alpha=1e-4, lambda_=1e-8):\n",
    "    np.random.seed(42)\n",
    "    W = np.random.randn(X.shape[0])\n",
    "    n = X.shape[1]\n",
    "    for i in range(1, iterations+1):\n",
    "        y_pred = np.dot(W, X)\n",
    "        err = calc_mse(y, y_pred)\n",
    "        W -= alpha * (1/n * 2 * np.dot((y_pred - y), X.T) + lambda_ * W) \n",
    "        if i % (iterations / 10) == 0:\n",
    "            print(f'# итерация: {i}, MSE: {err}, веса: {W}')\n",
    "    return W"
   ]
  },
  {
   "cell_type": "code",
   "execution_count": 26,
   "metadata": {
    "colab": {
     "base_uri": "https://localhost:8080/",
     "height": 207
    },
    "colab_type": "code",
    "id": "vLJL6j8Lw6OA",
    "outputId": "dac9ef42-5966-4404-9346-aeb18cca83c6"
   },
   "outputs": [
    {
     "name": "stdout",
     "output_type": "stream",
     "text": [
      "# итерация: 500, MSE: 39.981664122534156, веса: [57.39479705  5.10767868  2.46037345  4.08674902]\n",
      "# итерация: 1000, MSE: 39.80723120406397, веса: [57.39713005  5.765859    1.85689028  4.03893236]\n",
      "# итерация: 1500, MSE: 39.78240504280034, веса: [57.39713014  5.99060723  1.60529698  4.06885866]\n",
      "# итерация: 2000, MSE: 39.7785235657889, веса: [57.39713014  6.07152025  1.50155606  4.09300748]\n",
      "# итерация: 2500, MSE: 39.777887486171274, веса: [57.39713014  6.10185559  1.45905205  4.10572941]\n",
      "# итерация: 3000, MSE: 39.777779304702605, веса: [57.39713014  6.11355928  1.44170275  4.11160375]\n",
      "# итерация: 3500, MSE: 39.77775983405892, веса: [57.39713014  6.11816175  1.43463681  4.11416107]\n",
      "# итерация: 4000, MSE: 39.777755943216036, веса: [57.39713014  6.11999396  1.43176283  4.1152412 ]\n",
      "# итерация: 4500, MSE: 39.77775502451418, веса: [57.39713014  6.12072893  1.43059479  4.11568989]\n",
      "# итерация: 5000, MSE: 39.77775476050766, веса: [57.39713014  6.12102515  1.4301203   4.11587451]\n"
     ]
    },
    {
     "data": {
      "text/plain": [
       "array([57.39713014,  6.12102515,  1.4301203 ,  4.11587451])"
      ]
     },
     "execution_count": 26,
     "metadata": {},
     "output_type": "execute_result"
    }
   ],
   "source": [
    "eval_model_reg2(X_st, y, iterations=5000, alpha=1e-2, lambda_=1e-4)"
   ]
  },
  {
   "cell_type": "code",
   "execution_count": null,
   "metadata": {},
   "outputs": [],
   "source": []
  },
  {
   "cell_type": "markdown",
   "metadata": {},
   "source": [
    "### Домашнее задание:  \n",
    "1. Постройте график зависимости весов всех признаков от lambda в L2-регуляризации (на данных из урока)."
   ]
  },
  {
   "cell_type": "code",
   "execution_count": 27,
   "metadata": {},
   "outputs": [],
   "source": [
    "def eval_model_reg2(X, y, iterations, alpha=1e-4, lambda_=1e-8, verbose=False):\n",
    "    np.random.seed(42)\n",
    "    W = np.random.randn(X.shape[0])\n",
    "    n = X.shape[1]\n",
    "    for i in range(1, iterations+1):\n",
    "        y_pred = np.dot(W, X)\n",
    "        err = calc_mse(y, y_pred)\n",
    "        W -= alpha * (1/n * 2 * np.dot((y_pred - y), X.T) + lambda_ * W)\n",
    "        if verbose:\n",
    "            if i % (iterations / 10) == 0:\n",
    "                print(f'# итерация: {i}, MSE: {err}, веса: {W}')\n",
    "    return W"
   ]
  },
  {
   "cell_type": "code",
   "execution_count": null,
   "metadata": {},
   "outputs": [],
   "source": [
    "lambdas = list(np.linspace(0.001, 1, 1000))\n",
    "weights = {i: [] for i in range(X_st.shape[0])}\n",
    "\n",
    "for l in lambdas:\n",
    "    result = eval_model_reg2(X_st, y, iterations=5000, alpha=1e-2, lambda_=l)\n",
    "    for key, value in enumerate(result):\n",
    "        weights[key].append(value)"
   ]
  },
  {
   "cell_type": "code",
   "execution_count": null,
   "metadata": {},
   "outputs": [],
   "source": [
    "fig, axs = plt.subplots(2, 2, figsize=(8, 8))\n",
    "\n",
    "axs[0][0].plot(lambdas, weights[0], c='red');\n",
    "axs[0][0].set_title('feature #1')\n",
    "\n",
    "axs[0][1].plot(lambdas, weights[1], c='blue');\n",
    "axs[0][1].set_title('feature #2')\n",
    "\n",
    "axs[1][0].plot(lambdas, weights[2], c='green');\n",
    "axs[1][0].set_title('feature #3')\n",
    "\n",
    "axs[1][1].plot(lambdas, weights[3], c='orange');\n",
    "axs[1][1].set_title('feature #4')\n",
    "\n",
    "for ax in axs.flat:\n",
    "    ax.set(xlabel='lambda', ylabel='weight');\n",
    "    ax.label_outer();"
   ]
  },
  {
   "cell_type": "markdown",
   "metadata": {},
   "source": [
    "2. Можно ли к одному и тому же признаку применить сразу и нормализацию, и стандартизацию? "
   ]
  },
  {
   "cell_type": "markdown",
   "metadata": {},
   "source": [
    "Нормализацию и стандартизацию применить к одному и тому же признаку последовательно можно, рассмотрим пример:"
   ]
  },
  {
   "cell_type": "code",
   "execution_count": null,
   "metadata": {},
   "outputs": [],
   "source": [
    "class Scaler:\n",
    "    \n",
    "    @staticmethod\n",
    "    def normalize(x: np.ndarray) -> np.ndarray:\n",
    "        return (x - x.min()) / (x.max() - x.min())\n",
    "    \n",
    "    @staticmethod\n",
    "    def standartize(x: np.ndarray) -> np.ndarray:\n",
    "        return (x - x.mean()) / x.std()"
   ]
  },
  {
   "cell_type": "code",
   "execution_count": null,
   "metadata": {},
   "outputs": [],
   "source": [
    "scaler = Scaler()\n",
    "\n",
    "print(scaler.normalize(scaler.standartize(X[1])))"
   ]
  },
  {
   "cell_type": "markdown",
   "metadata": {},
   "source": [
    "Но на практике это не имеет смыла, так как нормализация и стандартизация применяются для разных задач.\n",
    "\n",
    "Нормализация изменяет значения в диапазон [0,1]. Это может быть полезно в некоторых случаях, когда все параметры должны иметь одинаковую положительную шкалу (например при построении нейросети). Однако информация о выбросах признака теряется.\n",
    "\n",
    "Стандартизация же подразумевает такую предобработку данных, после которой каждый признак имеет среднее 0 и дисперсию 1. При этом информация о выбросах признака не теряется. Стандартизация применяется, например, при построении линейных моделей."
   ]
  },
  {
   "cell_type": "markdown",
   "metadata": {},
   "source": [
    "3. Напишите функцию наподобие eval_model_reg2, но для применения L1-регуляризации *."
   ]
  },
  {
   "cell_type": "code",
   "execution_count": null,
   "metadata": {},
   "outputs": [],
   "source": [
    "def eval_model_reg1(X, y, iterations, alpha=1e-4, lambda_=1e-8):\n",
    "    np.random.seed(42)\n",
    "    W = np.random.randn(X.shape[0])\n",
    "    n = X.shape[1]\n",
    "    for i in range(1, iterations+1):\n",
    "        y_pred = np.dot(W, X)\n",
    "        err = calc_mse(y, y_pred)\n",
    "        W -= alpha * (1/n * 2 * np.dot((y_pred - y), X.T) + lambda_ * W / np.abs(W)) \n",
    "        if i % (iterations / 10) == 0:\n",
    "            print(f'# итерация: {i}, MSE: {err}, веса: {W}')\n",
    "    return W"
   ]
  },
  {
   "cell_type": "code",
   "execution_count": null,
   "metadata": {},
   "outputs": [],
   "source": [
    "eval_model_reg1(X_st, y, iterations=5000, alpha=1e-2, lambda_=1e-4)"
   ]
  },
  {
   "cell_type": "code",
   "execution_count": null,
   "metadata": {},
   "outputs": [],
   "source": []
  }
 ],
 "metadata": {
  "colab": {
   "collapsed_sections": [],
   "name": "Lesson2.ipynb",
   "provenance": []
  },
  "kernelspec": {
   "display_name": "Python 3",
   "language": "python",
   "name": "python3"
  },
  "language_info": {
   "codemirror_mode": {
    "name": "ipython",
    "version": 3
   },
   "file_extension": ".py",
   "mimetype": "text/x-python",
   "name": "python",
   "nbconvert_exporter": "python",
   "pygments_lexer": "ipython3",
   "version": "3.7.6"
  }
 },
 "nbformat": 4,
 "nbformat_minor": 1
}
